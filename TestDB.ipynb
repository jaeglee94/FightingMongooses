{
 "cells": [
  {
   "cell_type": "code",
   "execution_count": 1,
   "metadata": {},
   "outputs": [],
   "source": [
    "import sqlite3"
   ]
  },
  {
   "cell_type": "code",
   "execution_count": 2,
   "metadata": {},
   "outputs": [],
   "source": [
    "#connect\n",
    "conn = sqlite3.connect(\"routes.db\")\n"
   ]
  },
  {
   "cell_type": "code",
   "execution_count": 3,
   "metadata": {},
   "outputs": [],
   "source": [
    "#obtain a cursor - something to loop through via database connection\n",
    "cur = conn.cursor()"
   ]
  },
  {
   "cell_type": "code",
   "execution_count": 4,
   "metadata": {},
   "outputs": [
    {
     "name": "stdout",
     "output_type": "stream",
     "text": [
      "(u'Routes',)\n"
     ]
    }
   ],
   "source": [
    "cur.execute(\"SELECT name FROM sqlite_master WHERE type='table'\")\n",
    "#obtain data from cursor via loop - in this case - table names in database file\n",
    "rows = cur.fetchall()\n",
    " \n",
    "for row in rows:\n",
    "    print(row)"
   ]
  },
  {
   "cell_type": "code",
   "execution_count": 5,
   "metadata": {},
   "outputs": [
    {
     "name": "stdout",
     "output_type": "stream",
     "text": [
      "(u'CREATE TABLE Routes(\\n  \"Unique ID\" TEXT,\\n  \"Airline\" TEXT,\\n  \"Airline ID\" TEXT,\\n  \"Source Airport ID\" TEXT,\\n  \"Source Airport\" TEXT,\\n  \"Source Airport Name\" TEXT,\\n  \"Source Airport City\" TEXT,\\n  \"Source Airport Country\" TEXT,\\n  \"Source Airport Latitude\" TEXT,\\n  \"Source Airport Longitude\" TEXT,\\n  \"Source Airport Timezone\" TEXT,\\n  \"Destination Airport ID\" TEXT,\\n  \"Destination Airport\" TEXT,\\n  \"Destination Airport Name\" TEXT,\\n  \"Destination Airport City\" TEXT,\\n  \"Destination Airport Country\" TEXT,\\n  \"Destination Airport Latitude\" TEXT,\\n  \"Destination Airport Longitude\" TEXT,\\n  \"Destination Airport Timezone\" TEXT,\\n  \"Codeshare\" TEXT,\\n  \"Stops\" TEXT,\\n  \"Equipment\" TEXT\\n)',)\n"
     ]
    }
   ],
   "source": [
    "#obtain details of the schema/table format from table named player\n",
    "cur.execute(\"SELECT sql FROM sqlite_master WHERE name='Routes'\")\n",
    "rows = cur.fetchall()\n",
    " \n",
    "for row in rows:\n",
    "    print(row)"
   ]
  },
  {
   "cell_type": "code",
   "execution_count": 6,
   "metadata": {},
   "outputs": [
    {
     "data": {
      "text/plain": [
       "[u'Unique ID',\n",
       " u'Airline',\n",
       " u'Airline ID',\n",
       " u'Source Airport ID',\n",
       " u'Source Airport',\n",
       " u'Source Airport Name',\n",
       " u'Source Airport City',\n",
       " u'Source Airport Country',\n",
       " u'Source Airport Latitude',\n",
       " u'Source Airport Longitude',\n",
       " u'Source Airport Timezone',\n",
       " u'Destination Airport ID',\n",
       " u'Destination Airport',\n",
       " u'Destination Airport Name',\n",
       " u'Destination Airport City',\n",
       " u'Destination Airport Country',\n",
       " u'Destination Airport Latitude',\n",
       " u'Destination Airport Longitude',\n",
       " u'Destination Airport Timezone',\n",
       " u'Codeshare',\n",
       " u'Stops',\n",
       " u'Equipment']"
      ]
     },
     "execution_count": 6,
     "metadata": {},
     "output_type": "execute_result"
    }
   ],
   "source": [
    "mytext = rows[0][0]\n",
    "headers = mytext.replace(\"CREATE TABLE Routes(\\n  \\\"\", \"\").replace(\"\\\" TEXT\", \"\").replace(\"\\n  \\\"\",\"\").replace(\"\\n)\",\"\").split(\",\")\n",
    "headers"
   ]
  },
  {
   "cell_type": "code",
   "execution_count": 7,
   "metadata": {},
   "outputs": [],
   "source": [
    "#print all results\n",
    "cur.execute(\"SELECT * FROM Routes\")\n",
    "rows = cur.fetchall()"
   ]
  },
  {
   "cell_type": "code",
   "execution_count": 22,
   "metadata": {},
   "outputs": [],
   "source": [
    "r = rows[:5]\n",
    "finalData = dict()\n",
    "\n",
    "\n",
    "for item in r:\n",
    "    count = 0\n",
    "    interimData = dict()\n",
    "    for x in range(1,22):\n",
    "        interimData[headers[x]] =item[x]\n",
    "    finalData[item[0]]=interimData\n",
    "    \n",
    "\n"
   ]
  },
  {
   "cell_type": "code",
   "execution_count": 29,
   "metadata": {},
   "outputs": [
    {
     "name": "stdout",
     "output_type": "stream",
     "text": [
      "{u'Codeshare': u'Y', u'Destination Airport Latitude': u'35.2140007', u'Source Airport Name': u'Lehigh Valley International Airport', u'Source Airport Latitude': u'40.65209961', u'Destination Airport': u'CLT', u'Destination Airport City': u'Charlotte', u'Equipment': u'CR9 CR7 CRJ', u'Source Airport Longitude': u'-75.44080353', u'Destination Airport Timezone': u'-5', u'Destination Airport ID': u'3876', u'Airline ID': u'24', u'Source Airport': u'ABE', u'Destination Airport Name': u'Charlotte Douglas International Airport', u'Source Airport City': u'Allentown', u'Airline': u'AA', u'Source Airport Timezone': u'-5', u'Destination Airport Country': u'United States', u'Source Airport ID': u'4355', u'Source Airport Country': u'United States', u'Destination Airport Longitude': u'-80.94309998', u'Stops': u'0'}\n",
      "{u'Codeshare': u'Y', u'Destination Airport Latitude': u'32.896801', u'Source Airport Name': u'Abilene Regional Airport', u'Source Airport Latitude': u'32.41130066', u'Destination Airport': u'DFW', u'Destination Airport City': u'Dallas-Fort Worth', u'Equipment': u'ERD ER4 CRJ', u'Source Airport Longitude': u'-99.68190002', u'Destination Airport Timezone': u'-6', u'Destination Airport ID': u'3670', u'Airline ID': u'24', u'Source Airport': u'ABI', u'Destination Airport Name': u'Dallas Fort Worth International Airport', u'Source Airport City': u'Abilene', u'Airline': u'AA', u'Source Airport Timezone': u'-6', u'Destination Airport Country': u'United States', u'Source Airport ID': u'3718', u'Source Airport Country': u'United States', u'Destination Airport Longitude': u'-97.038002', u'Stops': u'0'}\n",
      "{u'Codeshare': u'', u'Destination Airport Latitude': u'39.87189865', u'Source Airport Name': u'Lehigh Valley International Airport', u'Source Airport Latitude': u'40.65209961', u'Destination Airport': u'PHL', u'Destination Airport City': u'Philadelphia', u'Equipment': u'DH3', u'Source Airport Longitude': u'-75.44080353', u'Destination Airport Timezone': u'-5', u'Destination Airport ID': u'3752', u'Airline ID': u'24', u'Source Airport': u'ABE', u'Destination Airport Name': u'Philadelphia International Airport', u'Source Airport City': u'Allentown', u'Airline': u'AA', u'Source Airport Timezone': u'-5', u'Destination Airport Country': u'United States', u'Source Airport ID': u'4355', u'Source Airport Country': u'United States', u'Destination Airport Longitude': u'-75.2410965', u'Stops': u'0'}\n",
      "{u'Codeshare': u'Y', u'Destination Airport Latitude': u'33.94250107', u'Source Airport Name': u'Albuquerque International Sunport', u'Source Airport Latitude': u'35.040199', u'Destination Airport': u'LAX', u'Destination Airport City': u'Los Angeles', u'Equipment': u'CR7 CRJ', u'Source Airport Longitude': u'-106.609001', u'Destination Airport Timezone': u'-8', u'Destination Airport ID': u'3484', u'Airline ID': u'24', u'Source Airport': u'ABQ', u'Destination Airport Name': u'Los Angeles International Airport', u'Source Airport City': u'Albuquerque', u'Airline': u'AA', u'Source Airport Timezone': u'-7', u'Destination Airport Country': u'United States', u'Source Airport ID': u'4019', u'Source Airport Country': u'United States', u'Destination Airport Longitude': u'-118.4079971', u'Stops': u'0'}\n",
      "{u'Codeshare': u'', u'Destination Airport Latitude': u'32.896801', u'Source Airport Name': u'Albuquerque International Sunport', u'Source Airport Latitude': u'35.040199', u'Destination Airport': u'DFW', u'Destination Airport City': u'Dallas-Fort Worth', u'Equipment': u'M83 M80', u'Source Airport Longitude': u'-106.609001', u'Destination Airport Timezone': u'-6', u'Destination Airport ID': u'3670', u'Airline ID': u'24', u'Source Airport': u'ABQ', u'Destination Airport Name': u'Dallas Fort Worth International Airport', u'Source Airport City': u'Albuquerque', u'Airline': u'AA', u'Source Airport Timezone': u'-7', u'Destination Airport Country': u'United States', u'Source Airport ID': u'4019', u'Source Airport Country': u'United States', u'Destination Airport Longitude': u'-97.038002', u'Stops': u'0'}\n"
     ]
    }
   ],
   "source": [
    "for key in finalData:\n",
    "    print(finalData[key])"
   ]
  },
  {
   "cell_type": "code",
   "execution_count": null,
   "metadata": {},
   "outputs": [],
   "source": []
  }
 ],
 "metadata": {
  "kernelspec": {
   "display_name": "Python 2",
   "language": "python",
   "name": "python2"
  },
  "language_info": {
   "codemirror_mode": {
    "name": "ipython",
    "version": 2
   },
   "file_extension": ".py",
   "mimetype": "text/x-python",
   "name": "python",
   "nbconvert_exporter": "python",
   "pygments_lexer": "ipython2",
   "version": "2.7.16"
  }
 },
 "nbformat": 4,
 "nbformat_minor": 2
}
