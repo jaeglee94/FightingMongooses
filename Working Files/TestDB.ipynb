{
 "cells": [
  {
   "cell_type": "code",
   "execution_count": 1,
   "metadata": {},
   "outputs": [],
   "source": [
    "import sqlite3"
   ]
  },
  {
   "cell_type": "code",
   "execution_count": 2,
   "metadata": {},
   "outputs": [],
   "source": [
    "#connect\n",
    "conn = sqlite3.connect(\"routes.db\")\n"
   ]
  },
  {
   "cell_type": "code",
   "execution_count": 3,
   "metadata": {},
   "outputs": [],
   "source": [
    "#obtain a cursor - something to loop through via database connection\n",
    "cur = conn.cursor()"
   ]
  },
  {
   "cell_type": "code",
   "execution_count": 4,
   "metadata": {},
   "outputs": [
    {
     "name": "stdout",
     "output_type": "stream",
     "text": [
      "('Routes',)\n"
     ]
    }
   ],
   "source": [
    "cur.execute(\"SELECT name FROM sqlite_master WHERE type='table'\")\n",
    "#obtain data from cursor via loop - in this case - table names in database file\n",
    "rows = cur.fetchall()\n",
    " \n",
    "for row in rows:\n",
    "    print(row)"
   ]
  },
  {
   "cell_type": "code",
   "execution_count": 5,
   "metadata": {},
   "outputs": [
    {
     "name": "stdout",
     "output_type": "stream",
     "text": [
      "('CREATE TABLE Routes(\\n  \"Unique ID\" TEXT,\\n  \"Airline\" TEXT,\\n  \"Airline ID\" TEXT,\\n  \"Source Airport ID\" TEXT,\\n  \"Source Airport\" TEXT,\\n  \"Source Airport Name\" TEXT,\\n  \"Source Airport City\" TEXT,\\n  \"Source Airport Country\" TEXT,\\n  \"Source Airport Latitude\" TEXT,\\n  \"Source Airport Longitude\" TEXT,\\n  \"Source Airport Timezone\" TEXT,\\n  \"Destination Airport ID\" TEXT,\\n  \"Destination Airport\" TEXT,\\n  \"Destination Airport Name\" TEXT,\\n  \"Destination Airport City\" TEXT,\\n  \"Destination Airport Country\" TEXT,\\n  \"Destination Airport Latitude\" TEXT,\\n  \"Destination Airport Longitude\" TEXT,\\n  \"Destination Airport Timezone\" TEXT,\\n  \"Codeshare\" TEXT,\\n  \"Stops\" TEXT,\\n  \"Equipment\" TEXT\\n)',)\n"
     ]
    }
   ],
   "source": [
    "#obtain details of the schema/table format from table named player\n",
    "cur.execute(\"SELECT sql FROM sqlite_master WHERE name='Routes'\")\n",
    "rows = cur.fetchall()\n",
    " \n",
    "for row in rows:\n",
    "    print(row)"
   ]
  },
  {
   "cell_type": "code",
   "execution_count": 6,
   "metadata": {},
   "outputs": [
    {
     "data": {
      "text/plain": [
       "['Unique ID',\n",
       " 'Airline',\n",
       " 'Airline ID',\n",
       " 'Source Airport ID',\n",
       " 'Source Airport',\n",
       " 'Source Airport Name',\n",
       " 'Source Airport City',\n",
       " 'Source Airport Country',\n",
       " 'Source Airport Latitude',\n",
       " 'Source Airport Longitude',\n",
       " 'Source Airport Timezone',\n",
       " 'Destination Airport ID',\n",
       " 'Destination Airport',\n",
       " 'Destination Airport Name',\n",
       " 'Destination Airport City',\n",
       " 'Destination Airport Country',\n",
       " 'Destination Airport Latitude',\n",
       " 'Destination Airport Longitude',\n",
       " 'Destination Airport Timezone',\n",
       " 'Codeshare',\n",
       " 'Stops',\n",
       " 'Equipment']"
      ]
     },
     "execution_count": 6,
     "metadata": {},
     "output_type": "execute_result"
    }
   ],
   "source": [
    "mytext = rows[0][0]\n",
    "headers = mytext.replace(\"CREATE TABLE Routes(\\n  \\\"\", \"\").replace(\"\\\" TEXT\", \"\").replace(\"\\n  \\\"\",\"\").replace(\"\\n)\",\"\").split(\",\")\n",
    "headers"
   ]
  },
  {
   "cell_type": "code",
   "execution_count": 7,
   "metadata": {},
   "outputs": [],
   "source": [
    "#print all results\n",
    "cur.execute(\"SELECT * FROM Routes\")\n",
    "rows = cur.fetchall()"
   ]
  },
  {
   "cell_type": "code",
   "execution_count": 35,
   "metadata": {},
   "outputs": [],
   "source": [
    "r = rows[:5]\n",
    "finalData = dict()\n",
    "\n",
    "for item in r:\n",
    "    count = 0\n",
    "    interimData = dict()\n",
    "    interimData['Airline'] =item[1]\n",
    "    interimData['Source Airport Name'] =item[5]\n",
    "    interimData['Source Airport Latitude'] =item[8]\n",
    "    interimData['Source Airport Longitude'] =item[9]\n",
    "    interimData['Destination Airport Name'] =item[13]\n",
    "    interimData['Destination Airport Latitude'] =item[16]\n",
    "    interimData['Destination Airport Longitude'] =item[17]\n",
    "    finalData[item[0]]=interimData\n",
    "    "
   ]
  },
  {
   "cell_type": "code",
   "execution_count": 37,
   "metadata": {},
   "outputs": [
    {
     "data": {
      "text/plain": [
       "{'1': {'Airline': 'AA',\n",
       "  'Source Airport Name': 'Lehigh Valley International Airport',\n",
       "  'Source Airport Latitude': '40.65209961',\n",
       "  'Source Airport Longitude': '-75.44080353',\n",
       "  'Destination Airport Name': 'Charlotte Douglas International Airport',\n",
       "  'Destination Airport Latitude': '35.2140007',\n",
       "  'Destination Airport Longitude': '-80.94309998'},\n",
       " '2': {'Airline': 'AA',\n",
       "  'Source Airport Name': 'Lehigh Valley International Airport',\n",
       "  'Source Airport Latitude': '40.65209961',\n",
       "  'Source Airport Longitude': '-75.44080353',\n",
       "  'Destination Airport Name': 'Philadelphia International Airport',\n",
       "  'Destination Airport Latitude': '39.87189865',\n",
       "  'Destination Airport Longitude': '-75.2410965'},\n",
       " '3': {'Airline': 'AA',\n",
       "  'Source Airport Name': 'Abilene Regional Airport',\n",
       "  'Source Airport Latitude': '32.41130066',\n",
       "  'Source Airport Longitude': '-99.68190002',\n",
       "  'Destination Airport Name': 'Dallas Fort Worth International Airport',\n",
       "  'Destination Airport Latitude': '32.896801',\n",
       "  'Destination Airport Longitude': '-97.038002'},\n",
       " '4': {'Airline': 'AA',\n",
       "  'Source Airport Name': 'Albuquerque International Sunport',\n",
       "  'Source Airport Latitude': '35.040199',\n",
       "  'Source Airport Longitude': '-106.609001',\n",
       "  'Destination Airport Name': 'Dallas Fort Worth International Airport',\n",
       "  'Destination Airport Latitude': '32.896801',\n",
       "  'Destination Airport Longitude': '-97.038002'},\n",
       " '5': {'Airline': 'AA',\n",
       "  'Source Airport Name': 'Albuquerque International Sunport',\n",
       "  'Source Airport Latitude': '35.040199',\n",
       "  'Source Airport Longitude': '-106.609001',\n",
       "  'Destination Airport Name': 'Los Angeles International Airport',\n",
       "  'Destination Airport Latitude': '33.94250107',\n",
       "  'Destination Airport Longitude': '-118.4079971'}}"
      ]
     },
     "execution_count": 37,
     "metadata": {},
     "output_type": "execute_result"
    }
   ],
   "source": [
    "finalData"
   ]
  },
  {
   "cell_type": "code",
   "execution_count": null,
   "metadata": {},
   "outputs": [],
   "source": []
  }
 ],
 "metadata": {
  "kernelspec": {
   "display_name": "Python 3",
   "language": "python",
   "name": "python3"
  },
  "language_info": {
   "codemirror_mode": {
    "name": "ipython",
    "version": 3
   },
   "file_extension": ".py",
   "mimetype": "text/x-python",
   "name": "python",
   "nbconvert_exporter": "python",
   "pygments_lexer": "ipython3",
   "version": "3.6.8"
  }
 },
 "nbformat": 4,
 "nbformat_minor": 2
}
